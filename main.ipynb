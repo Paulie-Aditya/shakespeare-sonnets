{
 "cells": [
  {
   "cell_type": "code",
   "execution_count": 1,
   "id": "6475f9b6",
   "metadata": {},
   "outputs": [],
   "source": [
    "# Importing required Libraries\n",
    "import random  \n",
    "import numpy as np #Essential as almost everything has to be converted to Numpy Arrays\n",
    "import tensorflow as tf #Essential for building Neural Networks\n",
    "from tensorflow.keras.models import Sequential #Using Sequential Model\n",
    "from tensorflow.keras.layers import LSTM, Dense, Activation #Our Neural Network will have 2 Layers -> LSTM(Long Short-Term Memory) and Dense Layer\n",
    "#Activation imported to have a activation function in our neural network\n",
    "from tensorflow.keras.optimizers import RMSProp # This optimizer is used"
   ]
  },
  {
   "cell_type": "code",
   "execution_count": 4,
   "id": "0d17041c",
   "metadata": {},
   "outputs": [],
   "source": [
    "filepath = \"Sonnets.txt\""
   ]
  },
  {
   "cell_type": "code",
   "execution_count": 5,
   "id": "8d69c887",
   "metadata": {},
   "outputs": [],
   "source": [
    "text = open(filepath, \"rb\").read().decode(encoding = \"utf-8\").lower() # Reading the dataset and applying preprocessing"
   ]
  },
  {
   "cell_type": "code",
   "execution_count": 6,
   "id": "8a20aacb",
   "metadata": {},
   "outputs": [],
   "source": [
    "characters = sorted(set(text)) # Set of all characters except those that are not in dataset\n",
    "char_to_index = dict((c,i) for i, c in enumerate(characters)) #Character to Index dictionary through Enum function\n",
    "index_to_char = dict((i,c) for i, c in enumerate(characters)) #Index to Character dictionary through Enum function\n",
    "\n"
   ]
  },
  {
   "cell_type": "code",
   "execution_count": 7,
   "id": "b83a080d",
   "metadata": {},
   "outputs": [],
   "source": [
    "SEQ_LENGTH = 40 #Sequence Length, this is the number of letters used to predict the next letter\n",
    "STEP_SIZE = 3 #Step size is equivalent to sliding window"
   ]
  },
  {
   "cell_type": "code",
   "execution_count": 8,
   "id": "cb58a3f3",
   "metadata": {},
   "outputs": [],
   "source": [
    "sentences = []\n",
    "next_characters = []\n",
    "\n",
    "#Building list of sentences and related next characters in the given dataset\n",
    "for i in range(0, len(text) - SEQ_LENGTH, STEP_SIZE):\n",
    "  sentences.append(text[i: i+SEQ_LENGTH])\n",
    "  next_characters.append(text[i+SEQ_LENGTH])\n",
    "    \n",
    "\n",
    "#Converting everything to boolean numpy arrays for us to easily access in future\n",
    "\n",
    "X = np.zeros((len(sentences), SEQ_LENGTH, len(characters)), dtype = bool)\n",
    "y= np.zeros((len(sentences), len(characters)), dtype = bool)\n",
    "\n",
    "\n",
    "for i, sentence in enumerate(sentences):\n",
    "  for t, character in enumerate(sentence):\n",
    "    X[(i,t,char_to_index[character])] = 1\n",
    "  y[(i,char_to_index[next_characters[i]])] = 1\n"
   ]
  },
  {
   "cell_type": "code",
   "execution_count": 9,
   "id": "5889fa6b",
   "metadata": {},
   "outputs": [
    {
     "name": "stdout",
     "output_type": "stream",
     "text": [
      "Epoch 1/30\n",
      "126/126 [==============================] - ETA: 0s - loss: 2.5496\n",
      "Epoch 1: loss improved from inf to 2.54955, saving model to textgenerator.model\n",
      "INFO:tensorflow:Assets written to: textgenerator.model\\assets\n"
     ]
    },
    {
     "name": "stderr",
     "output_type": "stream",
     "text": [
      "INFO:tensorflow:Assets written to: textgenerator.model\\assets\n"
     ]
    },
    {
     "name": "stdout",
     "output_type": "stream",
     "text": [
      "126/126 [==============================] - 41s 290ms/step - loss: 2.5496\n",
      "Epoch 2/30\n",
      "126/126 [==============================] - ETA: 0s - loss: 2.0512\n",
      "Epoch 2: loss improved from 2.54955 to 2.05120, saving model to textgenerator.model\n",
      "INFO:tensorflow:Assets written to: textgenerator.model\\assets\n"
     ]
    },
    {
     "name": "stderr",
     "output_type": "stream",
     "text": [
      "INFO:tensorflow:Assets written to: textgenerator.model\\assets\n"
     ]
    },
    {
     "name": "stdout",
     "output_type": "stream",
     "text": [
      "126/126 [==============================] - 35s 276ms/step - loss: 2.0512\n",
      "Epoch 3/30\n",
      "126/126 [==============================] - ETA: 0s - loss: 1.8696\n",
      "Epoch 3: loss improved from 2.05120 to 1.86958, saving model to textgenerator.model\n",
      "INFO:tensorflow:Assets written to: textgenerator.model\\assets\n"
     ]
    },
    {
     "name": "stderr",
     "output_type": "stream",
     "text": [
      "INFO:tensorflow:Assets written to: textgenerator.model\\assets\n"
     ]
    },
    {
     "name": "stdout",
     "output_type": "stream",
     "text": [
      "126/126 [==============================] - 33s 262ms/step - loss: 1.8696\n",
      "Epoch 4/30\n",
      "126/126 [==============================] - ETA: 0s - loss: 1.7378\n",
      "Epoch 4: loss improved from 1.86958 to 1.73778, saving model to textgenerator.model\n",
      "INFO:tensorflow:Assets written to: textgenerator.model\\assets\n"
     ]
    },
    {
     "name": "stderr",
     "output_type": "stream",
     "text": [
      "INFO:tensorflow:Assets written to: textgenerator.model\\assets\n"
     ]
    },
    {
     "name": "stdout",
     "output_type": "stream",
     "text": [
      "126/126 [==============================] - 30s 242ms/step - loss: 1.7378\n",
      "Epoch 5/30\n",
      "126/126 [==============================] - ETA: 0s - loss: 1.6458\n",
      "Epoch 5: loss improved from 1.73778 to 1.64575, saving model to textgenerator.model\n",
      "INFO:tensorflow:Assets written to: textgenerator.model\\assets\n"
     ]
    },
    {
     "name": "stderr",
     "output_type": "stream",
     "text": [
      "INFO:tensorflow:Assets written to: textgenerator.model\\assets\n"
     ]
    },
    {
     "name": "stdout",
     "output_type": "stream",
     "text": [
      "126/126 [==============================] - 30s 238ms/step - loss: 1.6458\n",
      "Epoch 6/30\n",
      "126/126 [==============================] - ETA: 0s - loss: 1.5629\n",
      "Epoch 6: loss improved from 1.64575 to 1.56288, saving model to textgenerator.model\n",
      "INFO:tensorflow:Assets written to: textgenerator.model\\assets\n"
     ]
    },
    {
     "name": "stderr",
     "output_type": "stream",
     "text": [
      "INFO:tensorflow:Assets written to: textgenerator.model\\assets\n"
     ]
    },
    {
     "name": "stdout",
     "output_type": "stream",
     "text": [
      "126/126 [==============================] - 30s 240ms/step - loss: 1.5629\n",
      "Epoch 7/30\n",
      "126/126 [==============================] - ETA: 0s - loss: 1.4890\n",
      "Epoch 7: loss improved from 1.56288 to 1.48897, saving model to textgenerator.model\n",
      "INFO:tensorflow:Assets written to: textgenerator.model\\assets\n"
     ]
    },
    {
     "name": "stderr",
     "output_type": "stream",
     "text": [
      "INFO:tensorflow:Assets written to: textgenerator.model\\assets\n"
     ]
    },
    {
     "name": "stdout",
     "output_type": "stream",
     "text": [
      "126/126 [==============================] - 36s 286ms/step - loss: 1.4890\n",
      "Epoch 8/30\n",
      "126/126 [==============================] - ETA: 0s - loss: 1.4151\n",
      "Epoch 8: loss improved from 1.48897 to 1.41512, saving model to textgenerator.model\n",
      "INFO:tensorflow:Assets written to: textgenerator.model\\assets\n"
     ]
    },
    {
     "name": "stderr",
     "output_type": "stream",
     "text": [
      "INFO:tensorflow:Assets written to: textgenerator.model\\assets\n"
     ]
    },
    {
     "name": "stdout",
     "output_type": "stream",
     "text": [
      "126/126 [==============================] - 38s 302ms/step - loss: 1.4151\n",
      "Epoch 9/30\n",
      "126/126 [==============================] - ETA: 0s - loss: 1.3467\n",
      "Epoch 9: loss improved from 1.41512 to 1.34675, saving model to textgenerator.model\n",
      "INFO:tensorflow:Assets written to: textgenerator.model\\assets\n"
     ]
    },
    {
     "name": "stderr",
     "output_type": "stream",
     "text": [
      "INFO:tensorflow:Assets written to: textgenerator.model\\assets\n"
     ]
    },
    {
     "name": "stdout",
     "output_type": "stream",
     "text": [
      "126/126 [==============================] - 36s 288ms/step - loss: 1.3467\n",
      "Epoch 10/30\n",
      "126/126 [==============================] - ETA: 0s - loss: 1.2773\n",
      "Epoch 10: loss improved from 1.34675 to 1.27729, saving model to textgenerator.model\n",
      "INFO:tensorflow:Assets written to: textgenerator.model\\assets\n"
     ]
    },
    {
     "name": "stderr",
     "output_type": "stream",
     "text": [
      "INFO:tensorflow:Assets written to: textgenerator.model\\assets\n"
     ]
    },
    {
     "name": "stdout",
     "output_type": "stream",
     "text": [
      "126/126 [==============================] - 32s 256ms/step - loss: 1.2773\n",
      "Epoch 11/30\n",
      "126/126 [==============================] - ETA: 0s - loss: 1.2198\n",
      "Epoch 11: loss improved from 1.27729 to 1.21981, saving model to textgenerator.model\n",
      "INFO:tensorflow:Assets written to: textgenerator.model\\assets\n"
     ]
    },
    {
     "name": "stderr",
     "output_type": "stream",
     "text": [
      "INFO:tensorflow:Assets written to: textgenerator.model\\assets\n"
     ]
    },
    {
     "name": "stdout",
     "output_type": "stream",
     "text": [
      "126/126 [==============================] - 36s 285ms/step - loss: 1.2198\n",
      "Epoch 12/30\n",
      "126/126 [==============================] - ETA: 0s - loss: 1.1608\n",
      "Epoch 12: loss improved from 1.21981 to 1.16083, saving model to textgenerator.model\n",
      "INFO:tensorflow:Assets written to: textgenerator.model\\assets\n"
     ]
    },
    {
     "name": "stderr",
     "output_type": "stream",
     "text": [
      "INFO:tensorflow:Assets written to: textgenerator.model\\assets\n"
     ]
    },
    {
     "name": "stdout",
     "output_type": "stream",
     "text": [
      "126/126 [==============================] - 31s 246ms/step - loss: 1.1608\n",
      "Epoch 13/30\n",
      "126/126 [==============================] - ETA: 0s - loss: 1.1091\n",
      "Epoch 13: loss improved from 1.16083 to 1.10907, saving model to textgenerator.model\n",
      "INFO:tensorflow:Assets written to: textgenerator.model\\assets\n"
     ]
    },
    {
     "name": "stderr",
     "output_type": "stream",
     "text": [
      "INFO:tensorflow:Assets written to: textgenerator.model\\assets\n"
     ]
    },
    {
     "name": "stdout",
     "output_type": "stream",
     "text": [
      "126/126 [==============================] - 34s 267ms/step - loss: 1.1091\n",
      "Epoch 14/30\n",
      "126/126 [==============================] - ETA: 0s - loss: 1.0637\n",
      "Epoch 14: loss improved from 1.10907 to 1.06367, saving model to textgenerator.model\n",
      "INFO:tensorflow:Assets written to: textgenerator.model\\assets\n"
     ]
    },
    {
     "name": "stderr",
     "output_type": "stream",
     "text": [
      "INFO:tensorflow:Assets written to: textgenerator.model\\assets\n"
     ]
    },
    {
     "name": "stdout",
     "output_type": "stream",
     "text": [
      "126/126 [==============================] - 36s 282ms/step - loss: 1.0637\n",
      "Epoch 15/30\n",
      "126/126 [==============================] - ETA: 0s - loss: 1.0241\n",
      "Epoch 15: loss improved from 1.06367 to 1.02413, saving model to textgenerator.model\n",
      "INFO:tensorflow:Assets written to: textgenerator.model\\assets\n"
     ]
    },
    {
     "name": "stderr",
     "output_type": "stream",
     "text": [
      "INFO:tensorflow:Assets written to: textgenerator.model\\assets\n"
     ]
    },
    {
     "name": "stdout",
     "output_type": "stream",
     "text": [
      "126/126 [==============================] - 35s 282ms/step - loss: 1.0241\n",
      "Epoch 16/30\n",
      "126/126 [==============================] - ETA: 0s - loss: 0.9939\n",
      "Epoch 16: loss improved from 1.02413 to 0.99390, saving model to textgenerator.model\n",
      "INFO:tensorflow:Assets written to: textgenerator.model\\assets\n"
     ]
    },
    {
     "name": "stderr",
     "output_type": "stream",
     "text": [
      "INFO:tensorflow:Assets written to: textgenerator.model\\assets\n"
     ]
    },
    {
     "name": "stdout",
     "output_type": "stream",
     "text": [
      "126/126 [==============================] - 31s 246ms/step - loss: 0.9939\n",
      "Epoch 17/30\n",
      "126/126 [==============================] - ETA: 0s - loss: 0.9654\n",
      "Epoch 17: loss improved from 0.99390 to 0.96541, saving model to textgenerator.model\n",
      "INFO:tensorflow:Assets written to: textgenerator.model\\assets\n"
     ]
    },
    {
     "name": "stderr",
     "output_type": "stream",
     "text": [
      "INFO:tensorflow:Assets written to: textgenerator.model\\assets\n"
     ]
    },
    {
     "name": "stdout",
     "output_type": "stream",
     "text": [
      "126/126 [==============================] - 31s 245ms/step - loss: 0.9654\n",
      "Epoch 18/30\n",
      "126/126 [==============================] - ETA: 0s - loss: 0.9408\n",
      "Epoch 18: loss improved from 0.96541 to 0.94078, saving model to textgenerator.model\n",
      "INFO:tensorflow:Assets written to: textgenerator.model\\assets\n"
     ]
    },
    {
     "name": "stderr",
     "output_type": "stream",
     "text": [
      "INFO:tensorflow:Assets written to: textgenerator.model\\assets\n"
     ]
    },
    {
     "name": "stdout",
     "output_type": "stream",
     "text": [
      "126/126 [==============================] - 31s 246ms/step - loss: 0.9408\n",
      "Epoch 19/30\n",
      "126/126 [==============================] - ETA: 0s - loss: 0.9097\n",
      "Epoch 19: loss improved from 0.94078 to 0.90971, saving model to textgenerator.model\n",
      "INFO:tensorflow:Assets written to: textgenerator.model\\assets\n"
     ]
    },
    {
     "name": "stderr",
     "output_type": "stream",
     "text": [
      "INFO:tensorflow:Assets written to: textgenerator.model\\assets\n"
     ]
    },
    {
     "name": "stdout",
     "output_type": "stream",
     "text": [
      "126/126 [==============================] - 34s 269ms/step - loss: 0.9097\n",
      "Epoch 20/30\n",
      "126/126 [==============================] - ETA: 0s - loss: 0.8901\n",
      "Epoch 20: loss improved from 0.90971 to 0.89013, saving model to textgenerator.model\n",
      "INFO:tensorflow:Assets written to: textgenerator.model\\assets\n"
     ]
    },
    {
     "name": "stderr",
     "output_type": "stream",
     "text": [
      "INFO:tensorflow:Assets written to: textgenerator.model\\assets\n"
     ]
    },
    {
     "name": "stdout",
     "output_type": "stream",
     "text": [
      "126/126 [==============================] - 33s 265ms/step - loss: 0.8901\n",
      "Epoch 21/30\n",
      "126/126 [==============================] - ETA: 0s - loss: 0.8761\n",
      "Epoch 21: loss improved from 0.89013 to 0.87605, saving model to textgenerator.model\n",
      "INFO:tensorflow:Assets written to: textgenerator.model\\assets\n"
     ]
    },
    {
     "name": "stderr",
     "output_type": "stream",
     "text": [
      "INFO:tensorflow:Assets written to: textgenerator.model\\assets\n"
     ]
    },
    {
     "name": "stdout",
     "output_type": "stream",
     "text": [
      "126/126 [==============================] - 34s 271ms/step - loss: 0.8761\n",
      "Epoch 22/30\n",
      "126/126 [==============================] - ETA: 0s - loss: 0.8566\n",
      "Epoch 22: loss improved from 0.87605 to 0.85656, saving model to textgenerator.model\n",
      "INFO:tensorflow:Assets written to: textgenerator.model\\assets\n"
     ]
    },
    {
     "name": "stderr",
     "output_type": "stream",
     "text": [
      "INFO:tensorflow:Assets written to: textgenerator.model\\assets\n"
     ]
    },
    {
     "name": "stdout",
     "output_type": "stream",
     "text": [
      "126/126 [==============================] - 33s 259ms/step - loss: 0.8566\n",
      "Epoch 23/30\n",
      "126/126 [==============================] - ETA: 0s - loss: 0.8405\n",
      "Epoch 23: loss improved from 0.85656 to 0.84051, saving model to textgenerator.model\n",
      "INFO:tensorflow:Assets written to: textgenerator.model\\assets\n"
     ]
    },
    {
     "name": "stderr",
     "output_type": "stream",
     "text": [
      "INFO:tensorflow:Assets written to: textgenerator.model\\assets\n"
     ]
    },
    {
     "name": "stdout",
     "output_type": "stream",
     "text": [
      "126/126 [==============================] - 35s 280ms/step - loss: 0.8405\n",
      "Epoch 24/30\n",
      "126/126 [==============================] - ETA: 0s - loss: 0.8260\n",
      "Epoch 24: loss improved from 0.84051 to 0.82602, saving model to textgenerator.model\n",
      "INFO:tensorflow:Assets written to: textgenerator.model\\assets\n"
     ]
    },
    {
     "name": "stderr",
     "output_type": "stream",
     "text": [
      "INFO:tensorflow:Assets written to: textgenerator.model\\assets\n"
     ]
    },
    {
     "name": "stdout",
     "output_type": "stream",
     "text": [
      "126/126 [==============================] - 34s 267ms/step - loss: 0.8260\n",
      "Epoch 25/30\n",
      "126/126 [==============================] - ETA: 0s - loss: 0.8160\n",
      "Epoch 25: loss improved from 0.82602 to 0.81596, saving model to textgenerator.model\n",
      "INFO:tensorflow:Assets written to: textgenerator.model\\assets\n"
     ]
    },
    {
     "name": "stderr",
     "output_type": "stream",
     "text": [
      "INFO:tensorflow:Assets written to: textgenerator.model\\assets\n"
     ]
    },
    {
     "name": "stdout",
     "output_type": "stream",
     "text": [
      "126/126 [==============================] - 33s 261ms/step - loss: 0.8160\n",
      "Epoch 26/30\n",
      "126/126 [==============================] - ETA: 0s - loss: 0.8059\n",
      "Epoch 26: loss improved from 0.81596 to 0.80585, saving model to textgenerator.model\n",
      "INFO:tensorflow:Assets written to: textgenerator.model\\assets\n"
     ]
    },
    {
     "name": "stderr",
     "output_type": "stream",
     "text": [
      "INFO:tensorflow:Assets written to: textgenerator.model\\assets\n"
     ]
    },
    {
     "name": "stdout",
     "output_type": "stream",
     "text": [
      "126/126 [==============================] - 31s 245ms/step - loss: 0.8059\n",
      "Epoch 27/30\n",
      "126/126 [==============================] - ETA: 0s - loss: 0.7911\n",
      "Epoch 27: loss improved from 0.80585 to 0.79111, saving model to textgenerator.model\n",
      "INFO:tensorflow:Assets written to: textgenerator.model\\assets\n"
     ]
    },
    {
     "name": "stderr",
     "output_type": "stream",
     "text": [
      "INFO:tensorflow:Assets written to: textgenerator.model\\assets\n"
     ]
    },
    {
     "name": "stdout",
     "output_type": "stream",
     "text": [
      "126/126 [==============================] - 32s 254ms/step - loss: 0.7911\n",
      "Epoch 28/30\n",
      "126/126 [==============================] - ETA: 0s - loss: 0.7761\n",
      "Epoch 28: loss improved from 0.79111 to 0.77610, saving model to textgenerator.model\n",
      "INFO:tensorflow:Assets written to: textgenerator.model\\assets\n"
     ]
    },
    {
     "name": "stderr",
     "output_type": "stream",
     "text": [
      "INFO:tensorflow:Assets written to: textgenerator.model\\assets\n"
     ]
    },
    {
     "name": "stdout",
     "output_type": "stream",
     "text": [
      "126/126 [==============================] - 32s 250ms/step - loss: 0.7761\n",
      "Epoch 29/30\n",
      "126/126 [==============================] - ETA: 0s - loss: 0.7700\n",
      "Epoch 29: loss improved from 0.77610 to 0.76998, saving model to textgenerator.model\n",
      "INFO:tensorflow:Assets written to: textgenerator.model\\assets\n"
     ]
    },
    {
     "name": "stderr",
     "output_type": "stream",
     "text": [
      "INFO:tensorflow:Assets written to: textgenerator.model\\assets\n"
     ]
    },
    {
     "name": "stdout",
     "output_type": "stream",
     "text": [
      "126/126 [==============================] - 32s 251ms/step - loss: 0.7700\n",
      "Epoch 30/30\n",
      "126/126 [==============================] - ETA: 0s - loss: 0.7582\n",
      "Epoch 30: loss improved from 0.76998 to 0.75816, saving model to textgenerator.model\n",
      "INFO:tensorflow:Assets written to: textgenerator.model\\assets\n"
     ]
    },
    {
     "name": "stderr",
     "output_type": "stream",
     "text": [
      "INFO:tensorflow:Assets written to: textgenerator.model\\assets\n"
     ]
    },
    {
     "name": "stdout",
     "output_type": "stream",
     "text": [
      "\b\b\b\b\b\b\b\b\b\b\b\b\b\b\b\b\b\b\b\b\b\b\b\b\b\b\b\b\b\b\b\b\b\b\b\b\b\b\b\b\b\b\b\b\b\b\b\b\b\b\b\b\b\b\b\b\b\b\b\b\b\b\b\b\b\r",
      "126/126 [==============================] - 33s 265ms/step - loss: 0.7582\n"
     ]
    },
    {
     "data": {
      "text/plain": [
       "<keras.src.callbacks.History at 0x12e4111b150>"
      ]
     },
     "execution_count": 9,
     "metadata": {},
     "output_type": "execute_result"
    }
   ],
   "source": [
    "#Run the following only the first time, after training and having our model, we will skip to the next cell\n",
    "'''\n",
    "model = Sequential()\n",
    "model.add(LSTM(128, input_shape = (SEQ_LENGTH, len(characters))))\n",
    "model.add(Dense(len(characters)))\n",
    "model.add(Activation('softmax'))\n",
    "from tensorflow.keras.callbacks import ModelCheckpoint\n",
    "\n",
    "checkpoint = ModelCheckpoint(\"textgenerator.model\", monitor = 'loss', verbose = 1, save_best_only = True)\n",
    "model.compile(loss = \"categorical_crossentropy\", optimizer=RMSProp(learning_rate=0.01))\n",
    "\n",
    "model.fit(X,y, batch_size = 256, epochs=30, callbacks = [checkpoint])\n",
    "'''"
   ]
  },
  {
   "cell_type": "code",
   "execution_count": 10,
   "id": "16d874d3",
   "metadata": {},
   "outputs": [],
   "source": [
    "#Run only after training\n",
    "model = tf.keras.models.load_model(\"textgenerator.model\")\n"
   ]
  },
  {
   "cell_type": "code",
   "execution_count": 11,
   "id": "462eb453",
   "metadata": {},
   "outputs": [],
   "source": [
    "def sample(preds,temperature= 0.1):\n",
    "  preds = np.asarray(preds).astype('float64')\n",
    "  preds = np.log(preds)/ temperature\n",
    "  exp_preds = np.exp(preds)\n",
    "  preds = exp_preds/np.sum(exp_preds)\n",
    "  probas = np.random.multinomial(1,preds,1)\n",
    "  return np.argmax(probas)"
   ]
  },
  {
   "cell_type": "code",
   "execution_count": 12,
   "id": "578eb8d9",
   "metadata": {},
   "outputs": [],
   "source": [
    "def generate_text(length, temperature):\n",
    "  start_index = random.randint(0,len(text)-SEQ_LENGTH-1)\n",
    "  generated = ''\n",
    "  sentence = text[start_index:start_index+SEQ_LENGTH]\n",
    "  generated += sentence\n",
    "  for i in range(length):\n",
    "    X = np.zeros((1, SEQ_LENGTH, len(characters)), dtype = bool)\n",
    "    for t, character in enumerate(sentence):\n",
    "      X[0,t,char_to_index[character]] = 1\n",
    "    prediction = model.predict(X,verbose=0)[0]\n",
    "    next_index = sample(prediction, temperature)\n",
    "    next_character = index_to_char[next_index]\n",
    "    generated += next_character\n",
    "    sentence = sentence[1:] + next_character\n",
    "  return generated"
   ]
  },
  {
   "cell_type": "code",
   "execution_count": null,
   "id": "bce015fd",
   "metadata": {},
   "outputs": [
    {
     "name": "stdout",
     "output_type": "stream",
     "text": [
      "__________Temperature = 0.2____________\n",
      " not free.\n",
      "\n",
      "whoever hath her wish, thou art thou art,\n",
      "so thou art hows me of thys, love to so.\n",
      "\n",
      "so it one, than this did be is thy heart,\n",
      "which i think on thee thine in thy core?\n",
      "i love and thou seems this growing his sight,\n",
      "so love your sead well me is that be eatest,\n",
      "which it hath nightle saper as thou stire,\n",
      "that constance in thy complivion stonge;\n",
      "so love to lend, but thou art thou art,\n",
      "so thou art thos thou best is stand the words\n",
      "but thou art thos thou seeming of the sight,\n",
      "and to me wruth a sade was be dough best,\n",
      "__________Temperature = 0.4____________\n",
      "\n",
      "death's second self, that seals up all greated.\n",
      "\n",
      "when to the store thing still winge, i shall sweetest,\n",
      "which i not solt of hearts to sour best,\n",
      "comet ont shall new mut my life, and tombar alt,\n",
      "thy sightless eyes thy chaint's thy cout.\n",
      "\n",
      "moth than this grow is do love upon thine,\n",
      "in some save with thine ouch inds mine eyes\n",
      "where you wilt for the summer truth fair it plowed;\n",
      "and that whis thys, and prost pittered ight.\n",
      "be it not mind''d thine in the ray,\n",
      "and love as destron thee for myself to fullich?\n",
      "of thy shado courrean\n",
      "__________Temperature = 0.6____________\n",
      "hear her speak, yet well i know\n",
      "that must thou wilt, more best, the len reseem.\n",
      "\n",
      "so it is to the suspranted fort ond forsh.\n",
      "y thou best, but they renew and to my bears,\n",
      "like in thy coull is thy love things loe,\n",
      "that i have short of others wrick and crowe,\n",
      "that so ill of mine eye be beauteous green;\n",
      "that thou wilt, so selvel things of stare,\n",
      "so from my sight ne'd be odour me to true my,\n",
      "some your seem i love to more in death;\n",
      "so it of thy dear thee have doth have ds all thee,\n",
      "which thou diesh thou distmets shall not thy sha\n",
      "__________Temperature = 0.8____________\n"
     ]
    }
   ],
   "source": [
    "print('__________Temperature = 0.2____________')\n",
    "print(generate_text(500,0.2))\n",
    "print('__________Temperature = 0.4____________')\n",
    "print(generate_text(500,0.4))\n",
    "print('__________Temperature = 0.6____________')\n",
    "print(generate_text(500,0.6))\n",
    "print('__________Temperature = 0.8____________')\n",
    "print(generate_text(500,0.8))\n",
    "print('__________Temperature = 1____________')\n",
    "print(generate_text(500,1))"
   ]
  },
  {
   "cell_type": "code",
   "execution_count": null,
   "id": "e3e52295",
   "metadata": {},
   "outputs": [],
   "source": [
    "# Best Temperature comes out to be 0.4 or 0.6 since higher the temp, more experimental the val"
   ]
  }
 ],
 "metadata": {
  "kernelspec": {
   "display_name": "Python 3 (ipykernel)",
   "language": "python",
   "name": "python3"
  },
  "language_info": {
   "codemirror_mode": {
    "name": "ipython",
    "version": 3
   },
   "file_extension": ".py",
   "mimetype": "text/x-python",
   "name": "python",
   "nbconvert_exporter": "python",
   "pygments_lexer": "ipython3",
   "version": "3.11.4"
  }
 },
 "nbformat": 4,
 "nbformat_minor": 5
}
